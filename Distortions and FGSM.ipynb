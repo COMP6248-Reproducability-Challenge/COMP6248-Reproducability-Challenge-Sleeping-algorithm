{
 "cells": [
  {
   "cell_type": "code",
   "execution_count": 1,
   "metadata": {},
   "outputs": [],
   "source": [
    "import torch\n",
    "import torchbearer\n",
    "import torch.nn.functional as F\n",
    "import torchvision.transforms as transforms\n",
    "from torch import nn\n",
    "from torch import optim\n",
    "from torch.utils.data import DataLoader\n",
    "from torchvision.datasets import MNIST\n",
    "import numpy as np\n",
    "import pickle\n",
    "from torchbearer.callbacks import LiveLossPlot\n",
    "from itertools import product\n",
    "import gc\n",
    "from scipy.ndimage import gaussian_filter\n",
    "import numpy as np\n",
    "from matplotlib import pyplot as plt\n",
    "import random\n",
    "import torch.nn.functional as F\n",
    "from torch import nn\n",
    "import sys\n",
    "import torchvision.utils\n",
    "from torchvision import models\n",
    "import torchvision.datasets as dsets\n",
    "import torchvision.transforms as transforms"
   ]
  },
  {
   "cell_type": "code",
   "execution_count": 2,
   "metadata": {},
   "outputs": [],
   "source": [
    "# fix random seed for reproducibility\n",
    "seed = 7\n",
    "torch.manual_seed(seed)\n",
    "torch.backends.cudnn.deterministic = True\n",
    "torch.backends.cudnn.benchmark = False\n",
    "np.random.seed(seed)\n",
    "device = \"cuda:0\" if torch.cuda.is_available() else \"cpu\""
   ]
  },
  {
   "cell_type": "code",
   "execution_count": 3,
   "metadata": {},
   "outputs": [],
   "source": [
    "# flatten 28*28 images to a 784 vector for each image\n",
    "transform = transforms.Compose([\n",
    "    transforms.ToTensor(),  # convert to tensor\n",
    "    transforms.Lambda(lambda x: x.view(-1))  # flatten into vector\n",
    "])"
   ]
  },
  {
   "cell_type": "code",
   "execution_count": 4,
   "metadata": {},
   "outputs": [],
   "source": [
    " # define baseline model\n",
    "class BaselineModel(nn.Module):\n",
    "    def __init__(self, input_size, hidden_size, num_classes):\n",
    "        super(BaselineModel, self).__init__()\n",
    "        self.fc1 = nn.Linear(input_size, hidden_size) \n",
    "        self.fc2 = nn.Linear(hidden_size, hidden_size) \n",
    "        self.fc3 = nn.Linear(hidden_size, num_classes)  \n",
    "    \n",
    "    def forward(self, x):\n",
    "        out = self.fc1(x)\n",
    "        out = F.relu(out)\n",
    "        out = F.dropout(out, 0.2)        \n",
    "        out = self.fc2(out)        \n",
    "        out = F.relu(out)\n",
    "        out = self.fc3(out)\n",
    "        if not self.training:\n",
    "            out = F.softmax(out, dim=1)\n",
    "        return out\n",
    "    \n",
    "# Define the ANN  network\n",
    "class NetworkControl(nn.Module):\n",
    "    def __init__(self, input_size, hidden_size, num_classes):\n",
    "        super(NetworkControl, self).__init__()\n",
    "        self.fc1 = nn.Linear(input_size, hidden_size) \n",
    "        self.fc2 = nn.Linear(hidden_size, hidden_size) \n",
    "        self.fc3 = nn.Linear(hidden_size, num_classes)  \n",
    "    \n",
    "    def forward(self, x):\n",
    "        out = self.fc1(x)\n",
    "        out = F.relu(out)\n",
    "        out = F.dropout(out, 0.2)        \n",
    "        out = self.fc2(out)        \n",
    "        out = F.relu(out)\n",
    "        out = F.dropout(out, 0.2)        \n",
    "        out = self.fc3(out)\n",
    "        if not self.training:\n",
    "            out = F.softmax(out, dim=1)\n",
    "        return out\n",
    "    \n",
    "    \n",
    "class BetterCNNforDistillation(nn.Module):\n",
    "    def __init__(self):\n",
    "        super(BetterCNNforDistillation, self).__init__()\n",
    "        self.conv1 = nn.Conv2d(1, 32, (5, 5), padding=0)\n",
    "        self.conv2 = nn.Conv2d(32, 64, (3, 3), padding=0)\n",
    "        self.fc1 = nn.Linear(64 * 5**2, 1024)\n",
    "        self.fc2 = nn.Linear(1024, 50)\n",
    "        self.fc3 = nn.Linear(50, 10)\n",
    "\n",
    "            \n",
    "    def forward(self, x):\n",
    "        out = self.conv1(x)\n",
    "        out = F.relu(out)\n",
    "        out = F.max_pool2d(out, (2,2))\n",
    "        out = self.conv2(out)\n",
    "        out = F.relu(out)\n",
    "        out = F.max_pool2d(out, (2,2))\n",
    "        out = F.dropout(out, 0.2)\n",
    "        out = out.view(out.shape[0], -1)\n",
    "        out = self.fc1(out)\n",
    "        out = F.relu(out)\n",
    "        out = self.fc2(out)\n",
    "        out = F.relu(out)\n",
    "        out = self.fc3(out)\n",
    "        if not self.training:\n",
    "            out = F.softmax(out, dim=1)\n",
    "        return out"
   ]
  },
  {
   "cell_type": "code",
   "execution_count": 5,
   "metadata": {},
   "outputs": [],
   "source": [
    "def fgsm_attack(model, loss, images, labels, eps) :\n",
    "    \n",
    "    images = images.to(device)\n",
    "    labels = labels.to(device)\n",
    "    images.requires_grad = True\n",
    "            \n",
    "    outputs = model(images)\n",
    "    \n",
    "    model.zero_grad()\n",
    "    cost = loss(outputs, labels).to(device)\n",
    "    cost.backward()\n",
    "    \n",
    "    attack_images = images + eps*images.grad.sign()\n",
    "    attack_images = torch.clamp(attack_images, 0, 1)\n",
    "    \n",
    "    return attack_images"
   ]
  },
  {
   "cell_type": "code",
   "execution_count": 9,
   "metadata": {},
   "outputs": [
    {
     "data": {
      "application/vnd.jupyter.widget-view+json": {
       "model_id": "6ce7d7940d0c437f8e65197a21e8d7a1",
       "version_major": 2,
       "version_minor": 0
      },
      "text/plain": [
       "HBox(children=(FloatProgress(value=0.0, description='0/1(e)', max=79.0, style=ProgressStyle(description_width=…"
      ]
     },
     "metadata": {},
     "output_type": "display_data"
    },
    {
     "name": "stdout",
     "output_type": "stream",
     "text": [
      "\n",
      "{'test_loss': 1.5647623538970947, 'test_acc': 0.9345999956130981}\n"
     ]
    },
    {
     "data": {
      "application/vnd.jupyter.widget-view+json": {
       "model_id": "e336ef092be24b36834cceeb62f489bd",
       "version_major": 2,
       "version_minor": 0
      },
      "text/plain": [
       "HBox(children=(FloatProgress(value=0.0, description='0/1(e)', max=79.0, style=ProgressStyle(description_width=…"
      ]
     },
     "metadata": {},
     "output_type": "display_data"
    },
    {
     "name": "stdout",
     "output_type": "stream",
     "text": [
      "\n",
      "{'test_loss': 1.5746958255767822, 'test_acc': 0.9328999519348145}\n"
     ]
    },
    {
     "data": {
      "application/vnd.jupyter.widget-view+json": {
       "model_id": "1580b70d302d4d788f6932ffdb42ad62",
       "version_major": 2,
       "version_minor": 0
      },
      "text/plain": [
       "HBox(children=(FloatProgress(value=0.0, description='0/1(e)', max=79.0, style=ProgressStyle(description_width=…"
      ]
     },
     "metadata": {},
     "output_type": "display_data"
    },
    {
     "name": "stdout",
     "output_type": "stream",
     "text": [
      "\n",
      "{'test_loss': 1.601085901260376, 'test_acc': 0.8978999853134155}\n"
     ]
    },
    {
     "data": {
      "application/vnd.jupyter.widget-view+json": {
       "model_id": "8bb9d43efbb14329b571c94b6b8a6449",
       "version_major": 2,
       "version_minor": 0
      },
      "text/plain": [
       "HBox(children=(FloatProgress(value=0.0, description='0/1(e)', max=79.0, style=ProgressStyle(description_width=…"
      ]
     },
     "metadata": {},
     "output_type": "display_data"
    },
    {
     "name": "stdout",
     "output_type": "stream",
     "text": [
      "\n",
      "{'test_loss': 1.606365442276001, 'test_acc': 0.8784999847412109}\n",
      "Test Accuracy: 91.06 %\n"
     ]
    },
    {
     "data": {
      "application/vnd.jupyter.widget-view+json": {
       "model_id": "4e2a2b2b8996418cba86ba3dc29f4173",
       "version_major": 2,
       "version_minor": 0
      },
      "text/plain": [
       "HBox(children=(FloatProgress(value=0.0, description='0/1(e)', max=79.0, style=ProgressStyle(description_width=…"
      ]
     },
     "metadata": {},
     "output_type": "display_data"
    },
    {
     "name": "stdout",
     "output_type": "stream",
     "text": [
      "\n",
      "{'test_loss': 1.5630444288253784, 'test_acc': 0.9368999600410461}\n"
     ]
    },
    {
     "data": {
      "application/vnd.jupyter.widget-view+json": {
       "model_id": "c1ad72fe6f5e47d0ad3c828fad19c4a6",
       "version_major": 2,
       "version_minor": 0
      },
      "text/plain": [
       "HBox(children=(FloatProgress(value=0.0, description='0/1(e)', max=79.0, style=ProgressStyle(description_width=…"
      ]
     },
     "metadata": {},
     "output_type": "display_data"
    },
    {
     "name": "stdout",
     "output_type": "stream",
     "text": [
      "\n",
      "{'test_loss': 1.576521396636963, 'test_acc': 0.9321999549865723}\n"
     ]
    },
    {
     "data": {
      "application/vnd.jupyter.widget-view+json": {
       "model_id": "c63c1425c6764acc9e8775c142c35e0b",
       "version_major": 2,
       "version_minor": 0
      },
      "text/plain": [
       "HBox(children=(FloatProgress(value=0.0, description='0/1(e)', max=79.0, style=ProgressStyle(description_width=…"
      ]
     },
     "metadata": {},
     "output_type": "display_data"
    },
    {
     "name": "stdout",
     "output_type": "stream",
     "text": [
      "\n",
      "{'test_loss': 1.6045453548431396, 'test_acc': 0.8978999853134155}\n"
     ]
    },
    {
     "data": {
      "application/vnd.jupyter.widget-view+json": {
       "model_id": "bc31d45a9bb34876924d85a29af42809",
       "version_major": 2,
       "version_minor": 0
      },
      "text/plain": [
       "HBox(children=(FloatProgress(value=0.0, description='0/1(e)', max=79.0, style=ProgressStyle(description_width=…"
      ]
     },
     "metadata": {},
     "output_type": "display_data"
    },
    {
     "name": "stdout",
     "output_type": "stream",
     "text": [
      "\n",
      "{'test_loss': 1.6060320138931274, 'test_acc': 0.8834999799728394}\n",
      "Test Accuracy: 91.10 %\n"
     ]
    },
    {
     "data": {
      "application/vnd.jupyter.widget-view+json": {
       "model_id": "810bb610be4944be8e05ec7f0bc8cce1",
       "version_major": 2,
       "version_minor": 0
      },
      "text/plain": [
       "HBox(children=(FloatProgress(value=0.0, description='0/1(e)', max=79.0, style=ProgressStyle(description_width=…"
      ]
     },
     "metadata": {},
     "output_type": "display_data"
    },
    {
     "name": "stdout",
     "output_type": "stream",
     "text": [
      "\n",
      "{'test_loss': 1.5719881057739258, 'test_acc': 0.9350000023841858}\n"
     ]
    },
    {
     "data": {
      "application/vnd.jupyter.widget-view+json": {
       "model_id": "246c77647b8c42d98bab94c7a4e14a4f",
       "version_major": 2,
       "version_minor": 0
      },
      "text/plain": [
       "HBox(children=(FloatProgress(value=0.0, description='0/1(e)', max=79.0, style=ProgressStyle(description_width=…"
      ]
     },
     "metadata": {},
     "output_type": "display_data"
    },
    {
     "name": "stdout",
     "output_type": "stream",
     "text": [
      "\n",
      "{'test_loss': 1.5801975727081299, 'test_acc': 0.9323999881744385}\n"
     ]
    },
    {
     "data": {
      "application/vnd.jupyter.widget-view+json": {
       "model_id": "4ea0b2df890a4aef93ee7218041bd77a",
       "version_major": 2,
       "version_minor": 0
      },
      "text/plain": [
       "HBox(children=(FloatProgress(value=0.0, description='0/1(e)', max=79.0, style=ProgressStyle(description_width=…"
      ]
     },
     "metadata": {},
     "output_type": "display_data"
    },
    {
     "name": "stdout",
     "output_type": "stream",
     "text": [
      "\n",
      "{'test_loss': 1.6048853397369385, 'test_acc': 0.9013999700546265}\n"
     ]
    },
    {
     "data": {
      "application/vnd.jupyter.widget-view+json": {
       "model_id": "fbbfe19cdb644b548c9221ea1d964c41",
       "version_major": 2,
       "version_minor": 0
      },
      "text/plain": [
       "HBox(children=(FloatProgress(value=0.0, description='0/1(e)', max=79.0, style=ProgressStyle(description_width=…"
      ]
     },
     "metadata": {},
     "output_type": "display_data"
    },
    {
     "name": "stdout",
     "output_type": "stream",
     "text": [
      "\n",
      "{'test_loss': 1.6096822023391724, 'test_acc': 0.8834999799728394}\n",
      "Test Accuracy: 90.74 %\n"
     ]
    },
    {
     "data": {
      "application/vnd.jupyter.widget-view+json": {
       "model_id": "81f9d0c2df064d94a90e5eca281122a5",
       "version_major": 2,
       "version_minor": 0
      },
      "text/plain": [
       "HBox(children=(FloatProgress(value=0.0, description='0/1(e)', max=79.0, style=ProgressStyle(description_width=…"
      ]
     },
     "metadata": {},
     "output_type": "display_data"
    },
    {
     "name": "stdout",
     "output_type": "stream",
     "text": [
      "\n",
      "{'test_loss': 1.831343650817871, 'test_acc': 0.8017999529838562}\n"
     ]
    },
    {
     "data": {
      "application/vnd.jupyter.widget-view+json": {
       "model_id": "4ac335ad2652497f803b3d2b0cc3941a",
       "version_major": 2,
       "version_minor": 0
      },
      "text/plain": [
       "HBox(children=(FloatProgress(value=0.0, description='0/1(e)', max=79.0, style=ProgressStyle(description_width=…"
      ]
     },
     "metadata": {},
     "output_type": "display_data"
    },
    {
     "name": "stdout",
     "output_type": "stream",
     "text": [
      "\n",
      "{'test_loss': 1.8332927227020264, 'test_acc': 0.8388999700546265}\n"
     ]
    },
    {
     "data": {
      "application/vnd.jupyter.widget-view+json": {
       "model_id": "cabeab441bd24a8b9b7695aaa4c1d73a",
       "version_major": 2,
       "version_minor": 0
      },
      "text/plain": [
       "HBox(children=(FloatProgress(value=0.0, description='0/1(e)', max=79.0, style=ProgressStyle(description_width=…"
      ]
     },
     "metadata": {},
     "output_type": "display_data"
    },
    {
     "name": "stdout",
     "output_type": "stream",
     "text": [
      "\n",
      "{'test_loss': 1.805745244026184, 'test_acc': 0.8104000091552734}\n"
     ]
    },
    {
     "data": {
      "application/vnd.jupyter.widget-view+json": {
       "model_id": "819af5c61c6d492e92e6884d4feebedf",
       "version_major": 2,
       "version_minor": 0
      },
      "text/plain": [
       "HBox(children=(FloatProgress(value=0.0, description='0/1(e)', max=79.0, style=ProgressStyle(description_width=…"
      ]
     },
     "metadata": {},
     "output_type": "display_data"
    },
    {
     "name": "stdout",
     "output_type": "stream",
     "text": [
      "\n",
      "{'test_loss': 1.720850944519043, 'test_acc': 0.8402999639511108}\n",
      "Test Accuracy: 75.78 %\n"
     ]
    },
    {
     "data": {
      "application/vnd.jupyter.widget-view+json": {
       "model_id": "66656d4ba534476ca34ada0bcd499a73",
       "version_major": 2,
       "version_minor": 0
      },
      "text/plain": [
       "HBox(children=(FloatProgress(value=0.0, description='0/1(e)', max=79.0, style=ProgressStyle(description_width=…"
      ]
     },
     "metadata": {},
     "output_type": "display_data"
    },
    {
     "name": "stdout",
     "output_type": "stream",
     "text": [
      "\n",
      "{'test_loss': 1.5933043956756592, 'test_acc': 0.9286999702453613}\n"
     ]
    },
    {
     "data": {
      "application/vnd.jupyter.widget-view+json": {
       "model_id": "52e43cfbc0394954843bf62f279da31b",
       "version_major": 2,
       "version_minor": 0
      },
      "text/plain": [
       "HBox(children=(FloatProgress(value=0.0, description='0/1(e)', max=79.0, style=ProgressStyle(description_width=…"
      ]
     },
     "metadata": {},
     "output_type": "display_data"
    },
    {
     "name": "stdout",
     "output_type": "stream",
     "text": [
      "\n",
      "{'test_loss': 1.602210521697998, 'test_acc': 0.9277999997138977}\n"
     ]
    },
    {
     "data": {
      "application/vnd.jupyter.widget-view+json": {
       "model_id": "fb95dca81cbb41cda071128b2f3202a5",
       "version_major": 2,
       "version_minor": 0
      },
      "text/plain": [
       "HBox(children=(FloatProgress(value=0.0, description='0/1(e)', max=79.0, style=ProgressStyle(description_width=…"
      ]
     },
     "metadata": {},
     "output_type": "display_data"
    },
    {
     "name": "stdout",
     "output_type": "stream",
     "text": [
      "\n",
      "{'test_loss': 1.6180121898651123, 'test_acc': 0.892799973487854}\n"
     ]
    },
    {
     "data": {
      "application/vnd.jupyter.widget-view+json": {
       "model_id": "506b0d1bdc99476cbade88897a285365",
       "version_major": 2,
       "version_minor": 0
      },
      "text/plain": [
       "HBox(children=(FloatProgress(value=0.0, description='0/1(e)', max=79.0, style=ProgressStyle(description_width=…"
      ]
     },
     "metadata": {},
     "output_type": "display_data"
    },
    {
     "name": "stdout",
     "output_type": "stream",
     "text": [
      "\n",
      "{'test_loss': 1.6285626888275146, 'test_acc': 0.8734999895095825}\n",
      "Test Accuracy: 89.83 %\n"
     ]
    },
    {
     "data": {
      "application/vnd.jupyter.widget-view+json": {
       "model_id": "420c960566494a2b90a4c0792814f82f",
       "version_major": 2,
       "version_minor": 0
      },
      "text/plain": [
       "HBox(children=(FloatProgress(value=0.0, description='0/1(e)', max=79.0, style=ProgressStyle(description_width=…"
      ]
     },
     "metadata": {},
     "output_type": "display_data"
    },
    {
     "name": "stdout",
     "output_type": "stream",
     "text": [
      "\n",
      "{'test_loss': 1.9445338249206543, 'test_acc': 0.6908000111579895}\n"
     ]
    },
    {
     "data": {
      "application/vnd.jupyter.widget-view+json": {
       "model_id": "0e3ee6c137824251b9437b1b172f5826",
       "version_major": 2,
       "version_minor": 0
      },
      "text/plain": [
       "HBox(children=(FloatProgress(value=0.0, description='0/1(e)', max=79.0, style=ProgressStyle(description_width=…"
      ]
     },
     "metadata": {},
     "output_type": "display_data"
    },
    {
     "name": "stdout",
     "output_type": "stream",
     "text": [
      "\n",
      "{'test_loss': 1.9286240339279175, 'test_acc': 0.7676999568939209}\n"
     ]
    },
    {
     "data": {
      "application/vnd.jupyter.widget-view+json": {
       "model_id": "bfd2d4fa493f4b04a8364a918479acb3",
       "version_major": 2,
       "version_minor": 0
      },
      "text/plain": [
       "HBox(children=(FloatProgress(value=0.0, description='0/1(e)', max=79.0, style=ProgressStyle(description_width=…"
      ]
     },
     "metadata": {},
     "output_type": "display_data"
    },
    {
     "name": "stdout",
     "output_type": "stream",
     "text": [
      "\n",
      "{'test_loss': 1.9007023572921753, 'test_acc': 0.7240999937057495}\n"
     ]
    },
    {
     "data": {
      "application/vnd.jupyter.widget-view+json": {
       "model_id": "7735d97040ba4e428f4d834db7c11aff",
       "version_major": 2,
       "version_minor": 0
      },
      "text/plain": [
       "HBox(children=(FloatProgress(value=0.0, description='0/1(e)', max=79.0, style=ProgressStyle(description_width=…"
      ]
     },
     "metadata": {},
     "output_type": "display_data"
    },
    {
     "name": "stdout",
     "output_type": "stream",
     "text": [
      "\n",
      "{'test_loss': 1.7682768106460571, 'test_acc': 0.8120999932289124}\n",
      "Test Accuracy: 69.40 %\n"
     ]
    },
    {
     "data": {
      "application/vnd.jupyter.widget-view+json": {
       "model_id": "3f054f931d934f6da31ce155165dddee",
       "version_major": 2,
       "version_minor": 0
      },
      "text/plain": [
       "HBox(children=(FloatProgress(value=0.0, description='0/1(e)', max=79.0, style=ProgressStyle(description_width=…"
      ]
     },
     "metadata": {},
     "output_type": "display_data"
    },
    {
     "name": "stdout",
     "output_type": "stream",
     "text": [
      "\n",
      "{'test_loss': 1.6446360349655151, 'test_acc': 0.9073999524116516}\n"
     ]
    },
    {
     "data": {
      "application/vnd.jupyter.widget-view+json": {
       "model_id": "f6359ad869a948ca8116c5550016f4f4",
       "version_major": 2,
       "version_minor": 0
      },
      "text/plain": [
       "HBox(children=(FloatProgress(value=0.0, description='0/1(e)', max=79.0, style=ProgressStyle(description_width=…"
      ]
     },
     "metadata": {},
     "output_type": "display_data"
    },
    {
     "name": "stdout",
     "output_type": "stream",
     "text": [
      "\n",
      "{'test_loss': 1.652984619140625, 'test_acc': 0.914199948310852}\n"
     ]
    },
    {
     "data": {
      "application/vnd.jupyter.widget-view+json": {
       "model_id": "a610fc3a266245eeb168102238253c46",
       "version_major": 2,
       "version_minor": 0
      },
      "text/plain": [
       "HBox(children=(FloatProgress(value=0.0, description='0/1(e)', max=79.0, style=ProgressStyle(description_width=…"
      ]
     },
     "metadata": {},
     "output_type": "display_data"
    },
    {
     "name": "stdout",
     "output_type": "stream",
     "text": [
      "\n",
      "{'test_loss': 1.6450425386428833, 'test_acc': 0.8837999701499939}\n"
     ]
    },
    {
     "data": {
      "application/vnd.jupyter.widget-view+json": {
       "model_id": "d6975977eebe4dfa8a2a6730d70a6198",
       "version_major": 2,
       "version_minor": 0
      },
      "text/plain": [
       "HBox(children=(FloatProgress(value=0.0, description='0/1(e)', max=79.0, style=ProgressStyle(description_width=…"
      ]
     },
     "metadata": {},
     "output_type": "display_data"
    },
    {
     "name": "stdout",
     "output_type": "stream",
     "text": [
      "\n",
      "{'test_loss': 1.663956642150879, 'test_acc': 0.8477999567985535}\n",
      "Test Accuracy: 87.21 %\n"
     ]
    },
    {
     "data": {
      "application/vnd.jupyter.widget-view+json": {
       "model_id": "445e090cb66d4d40b5d4def84f7a5327",
       "version_major": 2,
       "version_minor": 0
      },
      "text/plain": [
       "HBox(children=(FloatProgress(value=0.0, description='0/1(e)', max=79.0, style=ProgressStyle(description_width=…"
      ]
     },
     "metadata": {},
     "output_type": "display_data"
    },
    {
     "name": "stdout",
     "output_type": "stream",
     "text": [
      "\n",
      "{'test_loss': 2.0245003700256348, 'test_acc': 0.5783999562263489}\n"
     ]
    },
    {
     "data": {
      "application/vnd.jupyter.widget-view+json": {
       "model_id": "8a8fdce0b3984b399104c981e763fc28",
       "version_major": 2,
       "version_minor": 0
      },
      "text/plain": [
       "HBox(children=(FloatProgress(value=0.0, description='0/1(e)', max=79.0, style=ProgressStyle(description_width=…"
      ]
     },
     "metadata": {},
     "output_type": "display_data"
    },
    {
     "name": "stdout",
     "output_type": "stream",
     "text": [
      "\n",
      "{'test_loss': 1.9989632368087769, 'test_acc': 0.6776999831199646}\n"
     ]
    },
    {
     "data": {
      "application/vnd.jupyter.widget-view+json": {
       "model_id": "84cc8b674b324c66944d583735bd04b3",
       "version_major": 2,
       "version_minor": 0
      },
      "text/plain": [
       "HBox(children=(FloatProgress(value=0.0, description='0/1(e)', max=79.0, style=ProgressStyle(description_width=…"
      ]
     },
     "metadata": {},
     "output_type": "display_data"
    },
    {
     "name": "stdout",
     "output_type": "stream",
     "text": [
      "\n",
      "{'test_loss': 1.9777311086654663, 'test_acc': 0.6214999556541443}\n"
     ]
    },
    {
     "data": {
      "application/vnd.jupyter.widget-view+json": {
       "model_id": "b3a89b19676f41578c6e98f9d08b7b1e",
       "version_major": 2,
       "version_minor": 0
      },
      "text/plain": [
       "HBox(children=(FloatProgress(value=0.0, description='0/1(e)', max=79.0, style=ProgressStyle(description_width=…"
      ]
     },
     "metadata": {},
     "output_type": "display_data"
    },
    {
     "name": "stdout",
     "output_type": "stream",
     "text": [
      "\n",
      "{'test_loss': 1.805928111076355, 'test_acc': 0.7793999910354614}\n",
      "Test Accuracy: 62.95 %\n"
     ]
    },
    {
     "data": {
      "application/vnd.jupyter.widget-view+json": {
       "model_id": "e03d04e701c54179aa39d5bc3dd8fc7a",
       "version_major": 2,
       "version_minor": 0
      },
      "text/plain": [
       "HBox(children=(FloatProgress(value=0.0, description='0/1(e)', max=79.0, style=ProgressStyle(description_width=…"
      ]
     },
     "metadata": {},
     "output_type": "display_data"
    },
    {
     "name": "stdout",
     "output_type": "stream",
     "text": [
      "\n",
      "{'test_loss': 1.7362710237503052, 'test_acc': 0.8643999695777893}\n"
     ]
    },
    {
     "data": {
      "application/vnd.jupyter.widget-view+json": {
       "model_id": "6ac1eb990d2b4044a1012025805f316f",
       "version_major": 2,
       "version_minor": 0
      },
      "text/plain": [
       "HBox(children=(FloatProgress(value=0.0, description='0/1(e)', max=79.0, style=ProgressStyle(description_width=…"
      ]
     },
     "metadata": {},
     "output_type": "display_data"
    },
    {
     "name": "stdout",
     "output_type": "stream",
     "text": [
      "\n",
      "{'test_loss': 1.7400120496749878, 'test_acc': 0.8905999660491943}\n"
     ]
    },
    {
     "data": {
      "application/vnd.jupyter.widget-view+json": {
       "model_id": "733288b4a9714aa8a97ca50f29dfffef",
       "version_major": 2,
       "version_minor": 0
      },
      "text/plain": [
       "HBox(children=(FloatProgress(value=0.0, description='0/1(e)', max=79.0, style=ProgressStyle(description_width=…"
      ]
     },
     "metadata": {},
     "output_type": "display_data"
    },
    {
     "name": "stdout",
     "output_type": "stream",
     "text": [
      "\n",
      "{'test_loss': 1.694706678390503, 'test_acc': 0.8652999997138977}\n"
     ]
    },
    {
     "data": {
      "application/vnd.jupyter.widget-view+json": {
       "model_id": "83b8968d2ab04aa08557ecd7ba11f4d6",
       "version_major": 2,
       "version_minor": 0
      },
      "text/plain": [
       "HBox(children=(FloatProgress(value=0.0, description='0/1(e)', max=79.0, style=ProgressStyle(description_width=…"
      ]
     },
     "metadata": {},
     "output_type": "display_data"
    },
    {
     "name": "stdout",
     "output_type": "stream",
     "text": [
      "\n",
      "{'test_loss': 1.728931188583374, 'test_acc': 0.7976999878883362}\n",
      "Test Accuracy: 82.40 %\n"
     ]
    },
    {
     "data": {
      "application/vnd.jupyter.widget-view+json": {
       "model_id": "606b686570004fd5a3d9076c63009041",
       "version_major": 2,
       "version_minor": 0
      },
      "text/plain": [
       "HBox(children=(FloatProgress(value=0.0, description='0/1(e)', max=79.0, style=ProgressStyle(description_width=…"
      ]
     },
     "metadata": {},
     "output_type": "display_data"
    },
    {
     "name": "stdout",
     "output_type": "stream",
     "text": [
      "\n",
      "{'test_loss': 2.088667869567871, 'test_acc': 0.46209999918937683}\n"
     ]
    },
    {
     "data": {
      "application/vnd.jupyter.widget-view+json": {
       "model_id": "cc6a0b994b884b469717fbc1cf90ea26",
       "version_major": 2,
       "version_minor": 0
      },
      "text/plain": [
       "HBox(children=(FloatProgress(value=0.0, description='0/1(e)', max=79.0, style=ProgressStyle(description_width=…"
      ]
     },
     "metadata": {},
     "output_type": "display_data"
    },
    {
     "name": "stdout",
     "output_type": "stream",
     "text": [
      "\n",
      "{'test_loss': 2.0635159015655518, 'test_acc': 0.5616999864578247}\n"
     ]
    },
    {
     "data": {
      "application/vnd.jupyter.widget-view+json": {
       "model_id": "9bf56fd45a1144e5a6e130029d108cfa",
       "version_major": 2,
       "version_minor": 0
      },
      "text/plain": [
       "HBox(children=(FloatProgress(value=0.0, description='0/1(e)', max=79.0, style=ProgressStyle(description_width=…"
      ]
     },
     "metadata": {},
     "output_type": "display_data"
    },
    {
     "name": "stdout",
     "output_type": "stream",
     "text": [
      "\n",
      "{'test_loss': 2.0428497791290283, 'test_acc': 0.5159000158309937}\n"
     ]
    },
    {
     "data": {
      "application/vnd.jupyter.widget-view+json": {
       "model_id": "d40a410fda6e4c1f94241555600f9558",
       "version_major": 2,
       "version_minor": 0
      },
      "text/plain": [
       "HBox(children=(FloatProgress(value=0.0, description='0/1(e)', max=79.0, style=ProgressStyle(description_width=…"
      ]
     },
     "metadata": {},
     "output_type": "display_data"
    },
    {
     "name": "stdout",
     "output_type": "stream",
     "text": [
      "\n",
      "{'test_loss': 1.8443318605422974, 'test_acc': 0.7457999587059021}\n",
      "Test Accuracy: 55.90 %\n"
     ]
    },
    {
     "data": {
      "application/vnd.jupyter.widget-view+json": {
       "model_id": "16022b9c76b24dd4ae0982c609af550b",
       "version_major": 2,
       "version_minor": 0
      },
      "text/plain": [
       "HBox(children=(FloatProgress(value=0.0, description='0/1(e)', max=79.0, style=ProgressStyle(description_width=…"
      ]
     },
     "metadata": {},
     "output_type": "display_data"
    },
    {
     "name": "stdout",
     "output_type": "stream",
     "text": [
      "\n",
      "{'test_loss': 1.8547677993774414, 'test_acc': 0.7857999801635742}\n"
     ]
    },
    {
     "data": {
      "application/vnd.jupyter.widget-view+json": {
       "model_id": "e74080d1d10e42d88cc40337833dacba",
       "version_major": 2,
       "version_minor": 0
      },
      "text/plain": [
       "HBox(children=(FloatProgress(value=0.0, description='0/1(e)', max=79.0, style=ProgressStyle(description_width=…"
      ]
     },
     "metadata": {},
     "output_type": "display_data"
    },
    {
     "name": "stdout",
     "output_type": "stream",
     "text": [
      "\n",
      "{'test_loss': 1.8536840677261353, 'test_acc': 0.8417999744415283}\n"
     ]
    },
    {
     "data": {
      "application/vnd.jupyter.widget-view+json": {
       "model_id": "3052c68065964f938c5b6558a9cfd211",
       "version_major": 2,
       "version_minor": 0
      },
      "text/plain": [
       "HBox(children=(FloatProgress(value=0.0, description='0/1(e)', max=79.0, style=ProgressStyle(description_width=…"
      ]
     },
     "metadata": {},
     "output_type": "display_data"
    },
    {
     "name": "stdout",
     "output_type": "stream",
     "text": [
      "\n",
      "{'test_loss': 1.766892671585083, 'test_acc': 0.8334999680519104}\n"
     ]
    },
    {
     "data": {
      "application/vnd.jupyter.widget-view+json": {
       "model_id": "2b78cc5a7e73473ab75660259f3eb084",
       "version_major": 2,
       "version_minor": 0
      },
      "text/plain": [
       "HBox(children=(FloatProgress(value=0.0, description='0/1(e)', max=79.0, style=ProgressStyle(description_width=…"
      ]
     },
     "metadata": {},
     "output_type": "display_data"
    },
    {
     "name": "stdout",
     "output_type": "stream",
     "text": [
      "\n",
      "{'test_loss': 1.8231570720672607, 'test_acc': 0.7159000039100647}\n",
      "Test Accuracy: 74.40 %\n"
     ]
    },
    {
     "data": {
      "application/vnd.jupyter.widget-view+json": {
       "model_id": "0b56043b2e59407bb63dca9c07853cf2",
       "version_major": 2,
       "version_minor": 0
      },
      "text/plain": [
       "HBox(children=(FloatProgress(value=0.0, description='0/1(e)', max=79.0, style=ProgressStyle(description_width=…"
      ]
     },
     "metadata": {},
     "output_type": "display_data"
    },
    {
     "name": "stdout",
     "output_type": "stream",
     "text": [
      "\n",
      "{'test_loss': 2.1405344009399414, 'test_acc': 0.3684999942779541}\n"
     ]
    },
    {
     "data": {
      "application/vnd.jupyter.widget-view+json": {
       "model_id": "cb719258b08f40308a03128e4cdbc544",
       "version_major": 2,
       "version_minor": 0
      },
      "text/plain": [
       "HBox(children=(FloatProgress(value=0.0, description='0/1(e)', max=79.0, style=ProgressStyle(description_width=…"
      ]
     },
     "metadata": {},
     "output_type": "display_data"
    },
    {
     "name": "stdout",
     "output_type": "stream",
     "text": [
      "\n",
      "{'test_loss': 2.1192166805267334, 'test_acc': 0.4603999853134155}\n"
     ]
    },
    {
     "data": {
      "application/vnd.jupyter.widget-view+json": {
       "model_id": "47901d9acab84672945f9c6234d02055",
       "version_major": 2,
       "version_minor": 0
      },
      "text/plain": [
       "HBox(children=(FloatProgress(value=0.0, description='0/1(e)', max=79.0, style=ProgressStyle(description_width=…"
      ]
     },
     "metadata": {},
     "output_type": "display_data"
    },
    {
     "name": "stdout",
     "output_type": "stream",
     "text": [
      "\n",
      "{'test_loss': 2.103740930557251, 'test_acc': 0.41999998688697815}\n"
     ]
    },
    {
     "data": {
      "application/vnd.jupyter.widget-view+json": {
       "model_id": "492fcd26d5e34c718ee4b3a7045324ae",
       "version_major": 2,
       "version_minor": 0
      },
      "text/plain": [
       "HBox(children=(FloatProgress(value=0.0, description='0/1(e)', max=79.0, style=ProgressStyle(description_width=…"
      ]
     },
     "metadata": {},
     "output_type": "display_data"
    },
    {
     "name": "stdout",
     "output_type": "stream",
     "text": [
      "\n",
      "{'test_loss': 1.8864057064056396, 'test_acc': 0.7031999826431274}\n",
      "Test Accuracy: 47.16 %\n"
     ]
    }
   ],
   "source": [
    "#plot\n",
    "\n",
    "trainset = MNIST(\".\", train=True, download=True, transform=transform)\n",
    "testset = MNIST(\".\", train=False, download=True, transform=transform)\n",
    "trainset.data = trainset.data[0:27105]\n",
    "trainset.targets = trainset.targets[0:27105]\n",
    "\n",
    "\n",
    "sigma_values = [0, 0.5, 1.0, 1.5, 2.0, 2.5]\n",
    "variance_values = [0, 0.2, 0.4, 0.6, 0.8, 1.0]\n",
    "blur_acc_control = []\n",
    "blur_acc_sleep = []\n",
    "blur_acc_finetune_noise = []\n",
    "blur_acc_finetune_blur = []\n",
    "blur_acc_dis = []\n",
    "noise_acc_control = []\n",
    "noise_acc_sleep = []\n",
    "noise_acc_finetune_noise = []\n",
    "noise_acc_finetune_blur = []\n",
    "noise_acc_dis = []\n",
    "\n",
    "for i in range(len(sigma_values)):\n",
    "    \n",
    "    j = i\n",
    "    \n",
    "    #blur data\n",
    "    trainset = MNIST(\".\", train=True, download=True, transform=transform)\n",
    "    testset = MNIST(\".\", train=False, download=True, transform=transform)\n",
    "    trainset.data = trainset.data[0:27105]\n",
    "    trainset.targets = trainset.targets[0:27105]\n",
    "\n",
    "\n",
    "\n",
    "    # function to blur each MNIST image\n",
    "    def blur(x, sig):\n",
    "        return gaussian_filter(x, sigma=sig)\n",
    "    \n",
    "\n",
    "    # Distort the test set #\n",
    "    for i in range(len(testset)):\n",
    "        # gaussian blur the image with the chosen sigma value\n",
    "        blurredImage = blur(testset.test_data[i].numpy(), sigma_values[j])\n",
    "        # update the training set with the blurred image\n",
    "        testset.test_data[i] = torch.from_numpy(blurredImage)\n",
    "    \n",
    "    trainloader = DataLoader(trainset, batch_size=128, shuffle=True)\n",
    "    testloader = DataLoader(testset, batch_size=128, shuffle=True)\n",
    "    \n",
    "    #test the controlled network\n",
    "    model = torch.load('save_ann.pkl')\n",
    "    loss_function = nn.CrossEntropyLoss()\n",
    "    # live_loss_plot = LiveLossPlot()\n",
    "    optimiser = optim.SGD(model.parameters(), lr=0.1, momentum=0.5)\n",
    "    # trial = torchbearer.Trial(model, optimiser, loss_function, callbacks=[live_loss_plot], metrics=['loss', 'accuracy']).to(device)\n",
    "    trial = torchbearer.Trial(model, optimiser, loss_function,metrics=['loss', 'accuracy']).to(device)\n",
    "    trial.with_generators(trainloader, test_generator=testloader)\n",
    "    results = trial.evaluate(data_key=torchbearer.TEST_DATA)\n",
    "    print(results)\n",
    "    blur_acc_control.append(100.0 * results[\"test_acc\"])\n",
    "    \n",
    "    #test the sleeping network\n",
    "    model = torch.load('save_sleep.pkl')\n",
    "    loss_function = nn.CrossEntropyLoss()\n",
    "    # live_loss_plot = LiveLossPlot()\n",
    "    optimiser = optim.SGD(model.parameters(), lr=0.1, momentum=0.5)\n",
    "    # trial = torchbearer.Trial(model, optimiser, loss_function, callbacks=[live_loss_plot], metrics=['loss', 'accuracy']).to(device)\n",
    "    trial = torchbearer.Trial(model, optimiser, loss_function,metrics=['loss', 'accuracy']).to(device)\n",
    "    trial.with_generators(trainloader, test_generator=testloader)\n",
    "    results = trial.evaluate(data_key=torchbearer.TEST_DATA)\n",
    "    print(results)\n",
    "    blur_acc_sleep.append(100.0 * results[\"test_acc\"])\n",
    "    \n",
    "    #test the fine-tuning-blur network\n",
    "    model = torch.load('save_blur.pkl')\n",
    "    loss_function = nn.CrossEntropyLoss()\n",
    "    # live_loss_plot = LiveLossPlot()\n",
    "    optimiser = optim.SGD(model.parameters(), lr=0.1, momentum=0.5)\n",
    "    trial = torchbearer.Trial(model, optimiser, loss_function, metrics=['loss', 'accuracy']).to(device)\n",
    "    trial.with_generators(trainloader, test_generator=testloader)\n",
    "    results = trial.evaluate(data_key=torchbearer.TEST_DATA)\n",
    "    print(results)\n",
    "    blur_acc_finetune_blur.append(100.0 * results[\"test_acc\"])\n",
    "    \n",
    "    #test the fine-tuning-noise network\n",
    "    model = torch.load('save_noise.pkl')\n",
    "    loss_function = nn.CrossEntropyLoss()\n",
    "    # live_loss_plot = LiveLossPlot()\n",
    "    optimiser = optim.SGD(model.parameters(), lr=0.1, momentum=0.5)\n",
    "    trial = torchbearer.Trial(model, optimiser, loss_function, metrics=['loss', 'accuracy']).to(device)\n",
    "    trial.with_generators(trainloader, test_generator=testloader)\n",
    "    results = trial.evaluate(data_key=torchbearer.TEST_DATA)\n",
    "    print(results)\n",
    "    blur_acc_finetune_noise.append(100.0 * results[\"test_acc\"])\n",
    "    \n",
    "    #test the distillion network\n",
    "    model = torch.load('save_dis.pkl')\n",
    "    model.eval()\n",
    "\n",
    "    # Compute the model accuracy on the test set\n",
    "    correct = 0\n",
    "    total = 0\n",
    "\n",
    "    for data in testloader:\n",
    "        inputs, labels = data\n",
    "        inputs = torch.reshape(inputs, [-1, 1,28,28])\n",
    "        inputs = inputs.to(device)\n",
    "        labels = labels.to(device)\n",
    "        outputs = model(inputs)\n",
    "        predictions = torch.argmax(outputs, 1)\n",
    "        correct += (predictions == labels).sum().float()\n",
    "        total += len(labels)\n",
    "    print('Test Accuracy: %2.2f %%' % ((100.0 * correct) / total))\n",
    "    blur_acc_dis.append(((100.0 * correct) / total).item())\n",
    "    \n",
    "    \n",
    "    \n",
    "    #noise data\n",
    "    trainset = MNIST(\".\", train=True, download=True, transform=transform)\n",
    "    testset = MNIST(\".\", train=False, download=True, transform=transform)\n",
    "    trainset.data = trainset.data[0:27105]\n",
    "    trainset.targets = trainset.targets[0:27105]\n",
    "    \n",
    "    def noise(x, var):\n",
    "        return x + var * x.std() * np.random.random(x.shape)\n",
    "\n",
    "    for i in range(len(testset)):\n",
    "        # add gaussian noise to the image with the chosen variance value\n",
    "        noisyImage = noise(testset.test_data[i].numpy(), variance_values[j])\n",
    "        # update the training set with the noise image\n",
    "        testset.test_data[i] = torch.from_numpy(noisyImage)\n",
    "    \n",
    "    trainloader = DataLoader(trainset, batch_size=128, shuffle=True)\n",
    "    testloader = DataLoader(testset, batch_size=128, shuffle=True)\n",
    "    \n",
    "    #test the controlled network\n",
    "    model = torch.load('save_ann.pkl')\n",
    "    loss_function = nn.CrossEntropyLoss()\n",
    "    # live_loss_plot = LiveLossPlot()\n",
    "    optimiser = optim.SGD(model.parameters(), lr=0.1, momentum=0.5)\n",
    "    trial = torchbearer.Trial(model, optimiser, loss_function, metrics=['loss', 'accuracy']).to(device)\n",
    "    trial.with_generators(trainloader, test_generator=testloader)\n",
    "    results = trial.evaluate(data_key=torchbearer.TEST_DATA)\n",
    "    print(results)\n",
    "    noise_acc_control.append(100.0 * results[\"test_acc\"])\n",
    "    \n",
    "    #test the sleeping network\n",
    "    model = torch.load('save_sleep.pkl')\n",
    "    loss_function = nn.CrossEntropyLoss()\n",
    "    # live_loss_plot = LiveLossPlot()\n",
    "    optimiser = optim.SGD(model.parameters(), lr=0.1, momentum=0.5)\n",
    "    trial = torchbearer.Trial(model, optimiser, loss_function, metrics=['loss', 'accuracy']).to(device)\n",
    "    trial.with_generators(trainloader, test_generator=testloader)\n",
    "    results = trial.evaluate(data_key=torchbearer.TEST_DATA)\n",
    "    print(results)\n",
    "    noise_acc_sleep.append(100.0 * results[\"test_acc\"])\n",
    "    \n",
    "    #test the fine-tuning-blur network\n",
    "    model = torch.load('save_blur.pkl')\n",
    "    loss_function = nn.CrossEntropyLoss()\n",
    "    # live_loss_plot = LiveLossPlot()\n",
    "    optimiser = optim.SGD(model.parameters(), lr=0.1, momentum=0.5)\n",
    "    trial = torchbearer.Trial(model, optimiser, loss_function, metrics=['loss', 'accuracy']).to(device)\n",
    "    trial.with_generators(trainloader, test_generator=testloader)\n",
    "    results = trial.evaluate(data_key=torchbearer.TEST_DATA)\n",
    "    print(results)\n",
    "    noise_acc_finetune_blur.append(100.0 * results[\"test_acc\"])\n",
    "    \n",
    "    #test the fine-tuning-noise network\n",
    "    model = torch.load('save_noise.pkl')\n",
    "    loss_function = nn.CrossEntropyLoss()\n",
    "    # live_loss_plot = LiveLossPlot()\n",
    "    optimiser = optim.SGD(model.parameters(), lr=0.1, momentum=0.5)\n",
    "    trial = torchbearer.Trial(model, optimiser, loss_function, metrics=['loss', 'accuracy']).to(device)\n",
    "    trial.with_generators(trainloader, test_generator=testloader)\n",
    "    results = trial.evaluate(data_key=torchbearer.TEST_DATA)\n",
    "    print(results)\n",
    "    noise_acc_finetune_noise.append(100.0 * results[\"test_acc\"])\n",
    "    \n",
    "    #test the distillion network\n",
    "    model = torch.load('save_dis.pkl')\n",
    "    model.eval()\n",
    "    # Compute the model accuracy on the test set\n",
    "    correct = 0\n",
    "    total = 0\n",
    "    for data in testloader:\n",
    "        inputs, labels = data\n",
    "        inputs = torch.reshape(inputs, [-1, 1,28,28])\n",
    "        inputs = inputs.to(device)\n",
    "        labels = labels.to(device)\n",
    "        outputs = model(inputs)\n",
    "        predictions = torch.argmax(outputs, 1)\n",
    "        correct += (predictions == labels).sum().float()\n",
    "        total += len(labels)\n",
    "    print('Test Accuracy: %2.2f %%' % ((100.0 * correct) / total))\n",
    "    noise_acc_dis.append(((100.0 * correct) / total).item())"
   ]
  },
  {
   "cell_type": "code",
   "execution_count": 10,
   "metadata": {},
   "outputs": [
    {
     "data": {
      "image/png": "[encoded data removed]",
      "text/plain": [
       "<Figure size 432x288 with 1 Axes>"
      ]
     },
     "metadata": {
      "needs_background": "light"
     },
     "output_type": "display_data"
    }
   ],
   "source": [
    "plt.plot(sigma_values, blur_acc_control, label='Control')\n",
    "plt.plot(sigma_values, blur_acc_sleep, label='Sleep')\n",
    "plt.plot(sigma_values, blur_acc_finetune_noise, label='Finetune-noise')\n",
    "plt.plot(sigma_values, blur_acc_finetune_blur, label='Finetune-blur')\n",
    "plt.plot(sigma_values, blur_acc_dis, label='Dif.Dist')\n",
    "plt.legend()\n",
    "plt.show()"
   ]
  },
  {
   "cell_type": "code",
   "execution_count": 11,
   "metadata": {},
   "outputs": [
    {
     "data": {
      "image/png": "[encoded data removed]",
      "text/plain": [
       "<Figure size 432x288 with 1 Axes>"
      ]
     },
     "metadata": {
      "needs_background": "light"
     },
     "output_type": "display_data"
    }
   ],
   "source": [
    "plt.plot(variance_values, noise_acc_control, label='Control')\n",
    "plt.plot(variance_values, noise_acc_sleep, label='Sleep')\n",
    "plt.plot(variance_values, noise_acc_finetune_noise, label='Finetune-noise')\n",
    "plt.plot(variance_values, noise_acc_finetune_blur, label='Finetune-blur')\n",
    "plt.plot(variance_values, noise_acc_dis, label='Dif.Dist')\n",
    "plt.legend()\n",
    "plt.show()"
   ]
  },
  {
   "cell_type": "code",
   "execution_count": 34,
   "metadata": {},
   "outputs": [
    {
     "name": "stdout",
     "output_type": "stream",
     "text": [
      "Attack Image & Predicted Label\n",
      "Accuracy of test text: 93.600000 %\n",
      "Accuracy of test text: 92.840000 %\n",
      "Accuracy of test text: 88.230000 %\n",
      "Accuracy of test text: 89.810000 %\n",
      "Accuracy of test text: 89.900000 %\n",
      "Attack Image & Predicted Label\n",
      "Accuracy of test text: 81.660000 %\n",
      "Accuracy of test text: 81.350000 %\n",
      "Accuracy of test text: 74.540000 %\n",
      "Accuracy of test text: 75.900000 %\n",
      "Accuracy of test text: 81.760000 %\n",
      "Attack Image & Predicted Label\n",
      "Accuracy of test text: 56.180000 %\n",
      "Accuracy of test text: 58.970000 %\n",
      "Accuracy of test text: 52.260000 %\n",
      "Accuracy of test text: 52.800000 %\n",
      "Accuracy of test text: 72.390000 %\n",
      "Attack Image & Predicted Label\n",
      "Accuracy of test text: 25.610000 %\n",
      "Accuracy of test text: 30.440000 %\n",
      "Accuracy of test text: 28.190000 %\n",
      "Accuracy of test text: 27.400000 %\n",
      "Accuracy of test text: 60.640000 %\n",
      "Attack Image & Predicted Label\n",
      "Accuracy of test text: 9.560000 %\n",
      "Accuracy of test text: 11.210000 %\n",
      "Accuracy of test text: 12.950000 %\n",
      "Accuracy of test text: 10.630000 %\n",
      "Accuracy of test text: 47.160000 %\n",
      "Attack Image & Predicted Label\n",
      "Accuracy of test text: 2.890000 %\n",
      "Accuracy of test text: 3.350000 %\n",
      "Accuracy of test text: 5.150000 %\n",
      "Accuracy of test text: 3.850000 %\n",
      "Accuracy of test text: 32.810000 %\n"
     ]
    }
   ],
   "source": [
    "eps = [0,0.04,0.08,0.12,0.16,0.2]\n",
    "fgsm_acc_control = []\n",
    "fgsm_acc_sleep = []\n",
    "fgsm_acc_finetune_noise = []\n",
    "fgsm_acc_finetune_blur = []\n",
    "fgsm_acc_dis = []\n",
    "for i in range(len(eps)):\n",
    "     #FGSM   \n",
    "    print(\"Attack Image & Predicted Label\")\n",
    "    loss_function = nn.CrossEntropyLoss()\n",
    "\n",
    "    \n",
    "\n",
    "    trainset = MNIST(\".\", train=True, download=True, transform=transform)\n",
    "    testset = MNIST(\".\", train=False, download=True, transform=transform)\n",
    "    trainset.data = trainset.data[0:27105]\n",
    "    trainset.targets = trainset.targets[0:27105]\n",
    "    trainloader = DataLoader(trainset, batch_size=128, shuffle=True)\n",
    "    testloader = DataLoader(testset, batch_size=128, shuffle=True)\n",
    "    \n",
    "    \n",
    "    model = torch.load('save_ann.pkl')\n",
    "    model.eval()\n",
    "    loss_function = nn.CrossEntropyLoss()\n",
    "    correct = 0\n",
    "    total = 0\n",
    "    for images, labels in testloader:\n",
    "    \n",
    "        images = fgsm_attack(model, loss_function, images, labels, eps[i]).to(device)\n",
    "        labels = labels.to(device)\n",
    "        outputs = model(images)\n",
    "\n",
    "        _, pre = torch.max(outputs.data, 1)\n",
    "\n",
    "        total += labels.shape[0]\n",
    "        correct += (pre == labels).sum()\n",
    "    \n",
    "    #     imshow(torchvision.utils.make_grid(images.cpu().data, normalize=True), [normal_data.classes[i] for i in pre])\n",
    "    \n",
    "    print('Accuracy of test text: %f %%' % (100 * float(correct) / total))\n",
    "    fgsm_acc_control.append(100 * float(correct) / total)\n",
    "    \n",
    "    model = torch.load('save_sleep.pkl')\n",
    "    model.eval()\n",
    "    loss_function = nn.CrossEntropyLoss()\n",
    "    correct = 0\n",
    "    total = 0\n",
    "    for images, labels in testloader:\n",
    "    \n",
    "        images = fgsm_attack(model, loss_function, images, labels, eps[i]).to(device)\n",
    "        labels = labels.to(device)\n",
    "        outputs = model(images)\n",
    "\n",
    "        _, pre = torch.max(outputs.data, 1)\n",
    "\n",
    "        total += labels.shape[0]\n",
    "        correct += (pre == labels).sum()\n",
    "    \n",
    "    #     imshow(torchvision.utils.make_grid(images.cpu().data, normalize=True), [normal_data.classes[i] for i in pre])\n",
    "    \n",
    "    print('Accuracy of test text: %f %%' % (100 * float(correct) / total))\n",
    "    fgsm_acc_sleep.append(100 * float(correct) / total)\n",
    "    \n",
    "    model = torch.load('save_noise.pkl')\n",
    "    model.eval()\n",
    "    loss_function = nn.CrossEntropyLoss()\n",
    "    correct = 0\n",
    "    total = 0\n",
    "    for images, labels in testloader:\n",
    "    \n",
    "        images = fgsm_attack(model, loss_function, images, labels, eps[i]).to(device)\n",
    "        labels = labels.to(device)\n",
    "        outputs = model(images)\n",
    "\n",
    "        _, pre = torch.max(outputs.data, 1)\n",
    "\n",
    "        total += labels.shape[0]\n",
    "        correct += (pre == labels).sum()\n",
    "    \n",
    "    #     imshow(torchvision.utils.make_grid(images.cpu().data, normalize=True), [normal_data.classes[i] for i in pre])\n",
    "    \n",
    "    print('Accuracy of test text: %f %%' % (100 * float(correct) / total))\n",
    "    fgsm_acc_finetune_noise.append(100 * float(correct) / total)\n",
    "    \n",
    "    model = torch.load('save_blur.pkl')\n",
    "    model.eval()\n",
    "    loss_function = nn.CrossEntropyLoss()\n",
    "    correct = 0\n",
    "    total = 0\n",
    "    for images, labels in testloader:\n",
    "    \n",
    "        images = fgsm_attack(model, loss_function, images, labels, eps[i]).to(device)\n",
    "        labels = labels.to(device)\n",
    "        outputs = model(images)\n",
    "\n",
    "        _, pre = torch.max(outputs.data, 1)\n",
    "\n",
    "        total += labels.shape[0]\n",
    "        correct += (pre == labels).sum()\n",
    "    \n",
    "    #     imshow(torchvision.utils.make_grid(images.cpu().data, normalize=True), [normal_data.classes[i] for i in pre])\n",
    "    \n",
    "    print('Accuracy of test text: %f %%' % (100 * float(correct) / total))\n",
    "    fgsm_acc_finetune_blur.append(100 * float(correct) / total)\n",
    "    \n",
    "    model = torch.load('save_dis.pkl')\n",
    "    model.eval()\n",
    "    loss_function = nn.CrossEntropyLoss()\n",
    "    correct = 0\n",
    "    total = 0\n",
    "    for images, labels in testloader:\n",
    "        images = torch.reshape(images, [-1, 1,28,28])\n",
    "        images = fgsm_attack(model, loss_function, images, labels, eps[i]).to(device)\n",
    "        labels = labels.to(device)\n",
    "        outputs = model(images)\n",
    "\n",
    "        _, pre = torch.max(outputs.data, 1)\n",
    "\n",
    "        total += labels.shape[0]\n",
    "        correct += (pre == labels).sum()\n",
    "    \n",
    "    #     imshow(torchvision.utils.make_grid(images.cpu().data, normalize=True), [normal_data.classes[i] for i in pre])\n",
    "    \n",
    "    print('Accuracy of test text: %f %%' % (100 * float(correct) / total))\n",
    "    fgsm_acc_dis.append(100 * float(correct) / total)"
   ]
  },
  {
   "cell_type": "code",
   "execution_count": 39,
   "metadata": {},
   "outputs": [
    {
     "data": {
      "image/png": "[encoded data removed]",
      "text/plain": [
       "<Figure size 432x288 with 1 Axes>"
      ]
     },
     "metadata": {
      "needs_background": "light"
     },
     "output_type": "display_data"
    }
   ],
   "source": [
    "plt.errorbar(eps, fgsm_acc_control, label='Control')\n",
    "plt.plot(eps, fgsm_acc_sleep, label='Sleep')\n",
    "plt.plot(eps, fgsm_acc_finetune_noise, label='Finetune-noise')\n",
    "plt.plot(eps, fgsm_acc_finetune_blur, label='Finetune-blur')\n",
    "plt.plot(eps, fgsm_acc_dis, label='Dif.Dist')\n",
    "plt.legend()\n",
    "plt.show()"
   ]
  }
 ],
 "metadata": {
  "kernelspec": {
   "display_name": "Python 3",
   "language": "python",
   "name": "python3"
  },
  "language_info": {
   "codemirror_mode": {
    "name": "ipython",
    "version": 3
   },
   "file_extension": ".py",
   "mimetype": "text/x-python",
   "name": "python",
   "nbconvert_exporter": "python",
   "pygments_lexer": "ipython3",
   "version": "3.7.3"
  }
 },
 "nbformat": 4,
 "nbformat_minor": 2
}
